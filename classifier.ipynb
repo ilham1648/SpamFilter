{
 "cells": [
  {
   "cell_type": "code",
   "execution_count": 96,
   "metadata": {},
   "outputs": [],
   "source": [
    "import pandas as pd\n",
    "messages = pd.read_csv('SMSSpamCollection.txt', sep = '\\t', header = None, names = ['Labels', 'SMS'])"
   ]
  },
  {
   "cell_type": "code",
   "execution_count": 97,
   "metadata": {},
   "outputs": [
    {
     "name": "stdout",
     "output_type": "stream",
     "text": [
      "  Labels                                                SMS\n",
      "0    ham  Go until jurong point, crazy.. Available only ...\n",
      "1    ham                      Ok lar... Joking wif u oni...\n",
      "2   spam  Free entry in 2 a wkly comp to win FA Cup fina...\n",
      "3    ham  U dun say so early hor... U c already then say...\n",
      "4    ham  Nah I don't think he goes to usf, he lives aro...\n",
      "(5572, 2)\n"
     ]
    }
   ],
   "source": [
    "print(messages.head())\n",
    "print(messages.shape)"
   ]
  },
  {
   "cell_type": "code",
   "execution_count": 98,
   "metadata": {},
   "outputs": [
    {
     "data": {
      "text/plain": [
       "ham     4825\n",
       "spam     747\n",
       "Name: Labels, dtype: int64"
      ]
     },
     "execution_count": 98,
     "metadata": {},
     "output_type": "execute_result"
    }
   ],
   "source": [
    "messages['Labels'].value_counts()"
   ]
  },
  {
   "cell_type": "code",
   "execution_count": 99,
   "metadata": {},
   "outputs": [
    {
     "data": {
      "text/plain": [
       "ham     0.865937\n",
       "spam    0.134063\n",
       "Name: Labels, dtype: float64"
      ]
     },
     "execution_count": 99,
     "metadata": {},
     "output_type": "execute_result"
    }
   ],
   "source": [
    "messages['Labels'].value_counts(normalize = True)"
   ]
  },
  {
   "cell_type": "code",
   "execution_count": 100,
   "metadata": {},
   "outputs": [],
   "source": [
    "messages_random = messages.sample(frac = 1, random_state = 1)\n",
    "training_test_index = round(len(messages_random) * 0.7)\n",
    "training_set = messages_random.iloc[: training_test_index, :].reset_index(drop = True)\n",
    "test_set = messages_random.iloc[training_test_index :, :].reset_index(drop = True)"
   ]
  },
  {
   "cell_type": "code",
   "execution_count": 101,
   "metadata": {},
   "outputs": [
    {
     "name": "stdout",
     "output_type": "stream",
     "text": [
      "Тренировочная выборка\n",
      "ham     0.865897\n",
      "spam    0.134103\n",
      "Name: Labels, dtype: float64\n",
      "\n",
      "Тестовая выборка\n",
      "ham     0.866029\n",
      "spam    0.133971\n",
      "Name: Labels, dtype: float64\n"
     ]
    }
   ],
   "source": [
    "\n",
    "print(\"Тренировочная выборка\")\n",
    "print(training_set['Labels'].value_counts(normalize = True))\n",
    "print()\n",
    "print(\"Тестовая выборка\")\n",
    "print(test_set['Labels'].value_counts(normalize = True))\n"
   ]
  },
  {
   "cell_type": "code",
   "execution_count": 102,
   "metadata": {},
   "outputs": [
    {
     "name": "stderr",
     "output_type": "stream",
     "text": [
      "<ipython-input-102-d2cd45a904d6>:1: FutureWarning: The default value of regex will change from True to False in a future version.\n",
      "  training_set['SMS'] = training_set['SMS'].str.replace('\\W', ' ').str.lower()\n"
     ]
    },
    {
     "data": {
      "text/html": [
       "<div>\n",
       "<style scoped>\n",
       "    .dataframe tbody tr th:only-of-type {\n",
       "        vertical-align: middle;\n",
       "    }\n",
       "\n",
       "    .dataframe tbody tr th {\n",
       "        vertical-align: top;\n",
       "    }\n",
       "\n",
       "    .dataframe thead th {\n",
       "        text-align: right;\n",
       "    }\n",
       "</style>\n",
       "<table border=\"1\" class=\"dataframe\">\n",
       "  <thead>\n",
       "    <tr style=\"text-align: right;\">\n",
       "      <th></th>\n",
       "      <th>Labels</th>\n",
       "      <th>SMS</th>\n",
       "    </tr>\n",
       "  </thead>\n",
       "  <tbody>\n",
       "    <tr>\n",
       "      <th>0</th>\n",
       "      <td>ham</td>\n",
       "      <td>yep  by the pretty sculpture</td>\n",
       "    </tr>\n",
       "    <tr>\n",
       "      <th>1</th>\n",
       "      <td>ham</td>\n",
       "      <td>yes  princess  are you going to make me moan</td>\n",
       "    </tr>\n",
       "    <tr>\n",
       "      <th>2</th>\n",
       "      <td>ham</td>\n",
       "      <td>welp apparently he retired</td>\n",
       "    </tr>\n",
       "    <tr>\n",
       "      <th>3</th>\n",
       "      <td>ham</td>\n",
       "      <td>havent</td>\n",
       "    </tr>\n",
       "    <tr>\n",
       "      <th>4</th>\n",
       "      <td>ham</td>\n",
       "      <td>i forgot 2 ask ü all smth   there s a card on ...</td>\n",
       "    </tr>\n",
       "  </tbody>\n",
       "</table>\n",
       "</div>"
      ],
      "text/plain": [
       "  Labels                                                SMS\n",
       "0    ham                       yep  by the pretty sculpture\n",
       "1    ham      yes  princess  are you going to make me moan \n",
       "2    ham                         welp apparently he retired\n",
       "3    ham                                            havent \n",
       "4    ham  i forgot 2 ask ü all smth   there s a card on ..."
      ]
     },
     "execution_count": 102,
     "metadata": {},
     "output_type": "execute_result"
    }
   ],
   "source": [
    "training_set['SMS'] = training_set['SMS'].str.replace('\\W', ' ').str.lower()\n",
    "training_set.head()"
   ]
  },
  {
   "cell_type": "code",
   "execution_count": 103,
   "metadata": {},
   "outputs": [],
   "source": [
    "vocabulary = []\n",
    "training_set['SMS'] = training_set['SMS'].str.split()"
   ]
  },
  {
   "cell_type": "code",
   "execution_count": 104,
   "metadata": {},
   "outputs": [],
   "source": [
    "for text in training_set['SMS']:\n",
    "    for word in text:\n",
    "        vocabulary.append(word)        \n",
    "vocabulary = list(set(vocabulary))"
   ]
  },
  {
   "cell_type": "code",
   "execution_count": 105,
   "metadata": {},
   "outputs": [],
   "source": [
    "word_counts_per_sms = { word: [0] * len(training_set['SMS']) for word in vocabulary }\n",
    "for index, sms in enumerate(training_set['SMS']):\n",
    "    for word in sms:\n",
    "        word_counts_per_sms[word][index] += 1"
   ]
  },
  {
   "cell_type": "code",
   "execution_count": 106,
   "metadata": {},
   "outputs": [
    {
     "data": {
      "text/html": [
       "<div>\n",
       "<style scoped>\n",
       "    .dataframe tbody tr th:only-of-type {\n",
       "        vertical-align: middle;\n",
       "    }\n",
       "\n",
       "    .dataframe tbody tr th {\n",
       "        vertical-align: top;\n",
       "    }\n",
       "\n",
       "    .dataframe thead th {\n",
       "        text-align: right;\n",
       "    }\n",
       "</style>\n",
       "<table border=\"1\" class=\"dataframe\">\n",
       "  <thead>\n",
       "    <tr style=\"text-align: right;\">\n",
       "      <th></th>\n",
       "      <th>Labels</th>\n",
       "      <th>SMS</th>\n",
       "      <th>bthere</th>\n",
       "      <th>allday</th>\n",
       "      <th>adoring</th>\n",
       "      <th>boss</th>\n",
       "      <th>decimal</th>\n",
       "      <th>way2sms</th>\n",
       "      <th>08006344447</th>\n",
       "      <th>sacked</th>\n",
       "      <th>...</th>\n",
       "      <th>inlude</th>\n",
       "      <th>parantella</th>\n",
       "      <th>sitter</th>\n",
       "      <th>bag</th>\n",
       "      <th>ijust</th>\n",
       "      <th>comp</th>\n",
       "      <th>jazz</th>\n",
       "      <th>inclusive</th>\n",
       "      <th>shudvetold</th>\n",
       "      <th>psychiatrist</th>\n",
       "    </tr>\n",
       "  </thead>\n",
       "  <tbody>\n",
       "    <tr>\n",
       "      <th>0</th>\n",
       "      <td>ham</td>\n",
       "      <td>[yep, by, the, pretty, sculpture]</td>\n",
       "      <td>0</td>\n",
       "      <td>0</td>\n",
       "      <td>0</td>\n",
       "      <td>0</td>\n",
       "      <td>0</td>\n",
       "      <td>0</td>\n",
       "      <td>0</td>\n",
       "      <td>0</td>\n",
       "      <td>...</td>\n",
       "      <td>0</td>\n",
       "      <td>0</td>\n",
       "      <td>0</td>\n",
       "      <td>0</td>\n",
       "      <td>0</td>\n",
       "      <td>0</td>\n",
       "      <td>0</td>\n",
       "      <td>0</td>\n",
       "      <td>0</td>\n",
       "      <td>0</td>\n",
       "    </tr>\n",
       "    <tr>\n",
       "      <th>1</th>\n",
       "      <td>ham</td>\n",
       "      <td>[yes, princess, are, you, going, to, make, me,...</td>\n",
       "      <td>0</td>\n",
       "      <td>0</td>\n",
       "      <td>0</td>\n",
       "      <td>0</td>\n",
       "      <td>0</td>\n",
       "      <td>0</td>\n",
       "      <td>0</td>\n",
       "      <td>0</td>\n",
       "      <td>...</td>\n",
       "      <td>0</td>\n",
       "      <td>0</td>\n",
       "      <td>0</td>\n",
       "      <td>0</td>\n",
       "      <td>0</td>\n",
       "      <td>0</td>\n",
       "      <td>0</td>\n",
       "      <td>0</td>\n",
       "      <td>0</td>\n",
       "      <td>0</td>\n",
       "    </tr>\n",
       "    <tr>\n",
       "      <th>2</th>\n",
       "      <td>ham</td>\n",
       "      <td>[welp, apparently, he, retired]</td>\n",
       "      <td>0</td>\n",
       "      <td>0</td>\n",
       "      <td>0</td>\n",
       "      <td>0</td>\n",
       "      <td>0</td>\n",
       "      <td>0</td>\n",
       "      <td>0</td>\n",
       "      <td>0</td>\n",
       "      <td>...</td>\n",
       "      <td>0</td>\n",
       "      <td>0</td>\n",
       "      <td>0</td>\n",
       "      <td>0</td>\n",
       "      <td>0</td>\n",
       "      <td>0</td>\n",
       "      <td>0</td>\n",
       "      <td>0</td>\n",
       "      <td>0</td>\n",
       "      <td>0</td>\n",
       "    </tr>\n",
       "    <tr>\n",
       "      <th>3</th>\n",
       "      <td>ham</td>\n",
       "      <td>[havent]</td>\n",
       "      <td>0</td>\n",
       "      <td>0</td>\n",
       "      <td>0</td>\n",
       "      <td>0</td>\n",
       "      <td>0</td>\n",
       "      <td>0</td>\n",
       "      <td>0</td>\n",
       "      <td>0</td>\n",
       "      <td>...</td>\n",
       "      <td>0</td>\n",
       "      <td>0</td>\n",
       "      <td>0</td>\n",
       "      <td>0</td>\n",
       "      <td>0</td>\n",
       "      <td>0</td>\n",
       "      <td>0</td>\n",
       "      <td>0</td>\n",
       "      <td>0</td>\n",
       "      <td>0</td>\n",
       "    </tr>\n",
       "    <tr>\n",
       "      <th>4</th>\n",
       "      <td>ham</td>\n",
       "      <td>[i, forgot, 2, ask, ü, all, smth, there, s, a,...</td>\n",
       "      <td>0</td>\n",
       "      <td>0</td>\n",
       "      <td>0</td>\n",
       "      <td>0</td>\n",
       "      <td>0</td>\n",
       "      <td>0</td>\n",
       "      <td>0</td>\n",
       "      <td>0</td>\n",
       "      <td>...</td>\n",
       "      <td>0</td>\n",
       "      <td>0</td>\n",
       "      <td>0</td>\n",
       "      <td>0</td>\n",
       "      <td>0</td>\n",
       "      <td>0</td>\n",
       "      <td>0</td>\n",
       "      <td>0</td>\n",
       "      <td>0</td>\n",
       "      <td>0</td>\n",
       "    </tr>\n",
       "  </tbody>\n",
       "</table>\n",
       "<p>5 rows × 7214 columns</p>\n",
       "</div>"
      ],
      "text/plain": [
       "  Labels                                                SMS  bthere  allday  \\\n",
       "0    ham                  [yep, by, the, pretty, sculpture]       0       0   \n",
       "1    ham  [yes, princess, are, you, going, to, make, me,...       0       0   \n",
       "2    ham                    [welp, apparently, he, retired]       0       0   \n",
       "3    ham                                           [havent]       0       0   \n",
       "4    ham  [i, forgot, 2, ask, ü, all, smth, there, s, a,...       0       0   \n",
       "\n",
       "   adoring  boss  decimal  way2sms  08006344447  sacked  ...  inlude  \\\n",
       "0        0     0        0        0            0       0  ...       0   \n",
       "1        0     0        0        0            0       0  ...       0   \n",
       "2        0     0        0        0            0       0  ...       0   \n",
       "3        0     0        0        0            0       0  ...       0   \n",
       "4        0     0        0        0            0       0  ...       0   \n",
       "\n",
       "   parantella  sitter  bag  ijust  comp  jazz  inclusive  shudvetold  \\\n",
       "0           0       0    0      0     0     0          0           0   \n",
       "1           0       0    0      0     0     0          0           0   \n",
       "2           0       0    0      0     0     0          0           0   \n",
       "3           0       0    0      0     0     0          0           0   \n",
       "4           0       0    0      0     0     0          0           0   \n",
       "\n",
       "   psychiatrist  \n",
       "0             0  \n",
       "1             0  \n",
       "2             0  \n",
       "3             0  \n",
       "4             0  \n",
       "\n",
       "[5 rows x 7214 columns]"
      ]
     },
     "execution_count": 106,
     "metadata": {},
     "output_type": "execute_result"
    }
   ],
   "source": [
    "word_counts = pd.DataFrame(word_counts_per_sms)\n",
    "training_set_clean = pd.concat([training_set, word_counts], axis = 1)\n",
    "training_set_clean.head()"
   ]
  },
  {
   "cell_type": "code",
   "execution_count": 107,
   "metadata": {},
   "outputs": [
    {
     "name": "stdout",
     "output_type": "stream",
     "text": [
      "Тренировочная выборка\n",
      "              precision    recall  f1-score   support\n",
      "\n",
      "         ham       0.99      1.00      1.00      2356\n",
      "        spam       0.99      0.97      0.98       374\n",
      "\n",
      "    accuracy                           0.99      2730\n",
      "   macro avg       0.99      0.98      0.99      2730\n",
      "weighted avg       0.99      0.99      0.99      2730\n",
      "\n",
      "Тестовая выборка\n",
      "              precision    recall  f1-score   support\n",
      "\n",
      "         ham       0.99      1.00      0.99      1021\n",
      "        spam       0.98      0.90      0.94       149\n",
      "\n",
      "    accuracy                           0.98      1170\n",
      "   macro avg       0.98      0.95      0.96      1170\n",
      "weighted avg       0.98      0.98      0.98      1170\n",
      "\n"
     ]
    }
   ],
   "source": [
    "from sklearn.model_selection import train_test_split\n",
    "from sklearn.feature_extraction.text import CountVectorizer\n",
    "from sklearn.naive_bayes import MultinomialNB\n",
    "from sklearn.metrics import classification_report\n",
    "\n",
    "input_train, input_test, output_train, output_test = train_test_split(\n",
    "    training_set_clean['SMS'], training_set_clean['Labels'], test_size = 0.3)\n",
    "\n",
    "MNB = MultinomialNB()\n",
    "\n",
    "count_vectorizer = CountVectorizer()\n",
    "input_train = count_vectorizer.fit_transform(\n",
    "    input_train.apply(lambda x: ' '.join(x)))\n",
    "input_test = count_vectorizer.transform(\n",
    "    input_test.apply(lambda x: ' '.join(x)))\n",
    "\n",
    "MNB.fit(input_train, output_train)\n",
    "output_train_predict = MNB.predict(input_train)\n",
    "output_test_predict = MNB.predict(input_test)\n",
    "\n",
    "print(\"Тренировочная выборка\")\n",
    "print(classification_report(output_train, output_train_predict))\n",
    "print(\"Тестовая выборка\")\n",
    "print(classification_report(output_test, output_test_predict))\n"
   ]
  }
 ],
 "metadata": {
  "interpreter": {
   "hash": "1b79b1d945f72c9a80276892e944893f181e18abafb1f03563073fd552f6631c"
  },
  "kernelspec": {
   "display_name": "Python 3.8.8 64-bit ('base': conda)",
   "language": "python",
   "name": "python3"
  },
  "language_info": {
   "codemirror_mode": {
    "name": "ipython",
    "version": 3
   },
   "file_extension": ".py",
   "mimetype": "text/x-python",
   "name": "python",
   "nbconvert_exporter": "python",
   "pygments_lexer": "ipython3",
   "version": "3.8.8"
  },
  "orig_nbformat": 4
 },
 "nbformat": 4,
 "nbformat_minor": 2
}
